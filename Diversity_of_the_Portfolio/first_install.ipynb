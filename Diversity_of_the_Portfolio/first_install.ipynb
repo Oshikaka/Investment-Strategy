{
 "cells": [
  {
   "cell_type": "markdown",
   "id": "83fe3053",
   "metadata": {},
   "source": [
    "# Portfolio Diversity Analysis Tutorial\n",
    "\n",
    "## What is Portfolio Diversity?\n",
    "\n",
    "Portfolio diversity measures how different your investments are from each other. Think of it like this:\n",
    "- **High diversity**: Your stocks behave very differently (when one goes up, another might go down)\n",
    "- **Low diversity**: Your stocks behave similarly (they all go up or down together)\n",
    "\n",
    "**Why does this matter?** \n",
    "- Diverse portfolios are less risky\n",
    "- If one stock crashes, others might still do well\n",
    "- It's like the saying \"don't put all your eggs in one basket\"\n",
    "\n",
    "## What is ROA (Return on Assets)?\n",
    "\n",
    "ROA tells us how efficiently a company uses its assets to generate profit. It's calculated as:\n",
    "\n",
    "$$\\text{ROA} = \\frac{\\text{Net Income}}{\\text{Total Assets}}$$\n",
    "\n",
    "Higher ROA = Company is better at making money with what it owns.\n",
    "\n",
    "## Understanding the Code\n",
    "\n",
    "### Step 1: Import the Tools\n"
   ]
  },
  {
   "cell_type": "code",
   "execution_count": null,
   "id": "5e4e48aa",
   "metadata": {},
   "outputs": [],
   "source": [
    "import numpy as np\n",
    "import pandas as pd\n",
    "import seaborn as sns\n",
    "import matplotlib.pyplot as plt"
   ]
  },
  {
   "cell_type": "markdown",
   "id": "de1d0984",
   "metadata": {},
   "source": [
    "**What this does:** Load the Python libraries we need for calculations and making charts.\n",
    "\n",
    "### Step 2: Input Your Stock Data\n"
   ]
  },
  {
   "cell_type": "code",
   "execution_count": null,
   "id": "52d72f9f",
   "metadata": {},
   "outputs": [],
   "source": [
    "roa_data = np.array([\n",
    "    [0.5324, 0.5742, 0.3855, 0.0817, 0.1720],  # Stock 1: NVDA (5 years of ROA)\n",
    "    [0.10, 0.11, 0.12, 0.13, 0.14],           # Stock 2: (5 years of ROA)\n",
    "    # ... more stocks\n",
    "])"
   ]
  },
  {
   "cell_type": "markdown",
   "id": "546d122b",
   "metadata": {},
   "source": [
    "**What this does:** \n",
    "- Each row = one stock\n",
    "- Each column = one year of ROA data\n",
    "- You can replace these numbers with real ROA data from companies you're interested in\n",
    "\n",
    "### Step 3: Calculate Average ROA\n"
   ]
  },
  {
   "cell_type": "code",
   "execution_count": null,
   "id": "6d51af02",
   "metadata": {},
   "outputs": [],
   "source": [
    "avg_roa = np.mean(roa_data, axis=1)"
   ]
  },
  {
   "cell_type": "markdown",
   "id": "138db08a",
   "metadata": {},
   "source": [
    "**Formula:** \n",
    "$$\\text{Average ROA} = \\frac{\\text{ROA}_{\\text{Year 1}} + \\text{ROA}_{\\text{Year 2}} + ... + \\text{ROA}_{\\text{Year n}}}{n}$$\n",
    "\n",
    "**What this does:** Finds the average ROA for each stock over all years.\n",
    "\n",
    "### Step 4: Calculate Portfolio Diversity\n",
    "\n",
    "The diversity is calculated using correlation:\n",
    "\n",
    "$$\\text{Diversity} = 1 - \\text{Average Correlation}$$\n",
    "\n",
    "**Where correlation measures how similarly two stocks behave:**\n",
    "- Correlation = +1: Stocks move exactly together\n",
    "- Correlation = 0: Stocks move independently  \n",
    "- Correlation = -1: Stocks move in opposite directions\n",
    "\n",
    "Correlation measures how two variables move together.\n",
    "In finance, it tells us if two stocks tend to rise and fall at the same time.\n",
    "\n",
    "Formula for correlation (Pearson correlation coefficient):\n",
    "For two variables X and Y:  \n",
    "    $$Corr(X, Y) = Cov(X, Y) / (std(X) * std(Y))$$\n",
    "\n",
    "For multiple varibels:\n",
    "  $$r = \\frac{\\sum_{i=1}^n (x_i - \\bar{x})(y_i - \\bar{y})}{\\sqrt{\\sum_{i=1}^n (x_i - \\bar{x})^2} \\cdot \\sqrt{\\sum_{i=1}^n (y_i - \\bar{y})^2}}\n",
    "  $$\n",
    "\n",
    "Where:\n",
    "- $cov(X, Y)$ is the covariance between X and Y\n",
    "- $std(X)$ is the standard deviation of X\n",
    "- $std(Y)$ is the standard deviation of Y\n",
    "\n",
    "In pandas, you can calculate correlation between columns using:  \n",
    "`df.corr()`\n",
    "\n",
    "**Interpretation:**  \n",
    "$𝑟>0$: Positive correlation → as X increases, Y tends to increase.  \n",
    "$r<0$: Negative correlation → as X increases, Y tends to decrease.  \n",
    "$∣r∣$ close to 1: Strong linear relationship.  \n",
    "$∣r∣$ close to 0: Weak or no linear relationship.  \n",
    "\n",
    "\n",
    "\n"
   ]
  },
  {
   "cell_type": "code",
   "execution_count": null,
   "id": "629adc00",
   "metadata": {},
   "outputs": [],
   "source": [
    "def portfolio_diversity(roa_data_t):\n",
    "    df = pd.DataFrame(roa_data_t)\n",
    "    corr_matrix = df.corr()  # Calculate correlation between all stock pairs\n",
    "    upper_tri = corr_matrix.where(np.triu(np.ones(corr_matrix.shape), k=1).astype(bool))\n",
    "    avg_corr = upper_tri.stack().mean()  # Average correlation\n",
    "    diversity = 1 - avg_corr\n",
    "    return diversity, corr_matrix"
   ]
  },
  {
   "cell_type": "markdown",
   "id": "f85d27c7",
   "metadata": {},
   "source": [
    "\n",
    "\n",
    "**Diversity Scale:**\n",
    "- **0.8 - 1.0**: Very diverse (excellent!)\n",
    "- **0.6 - 0.8**: Good diversity\n",
    "- **0.4 - 0.6**: Moderate diversity\n",
    "- **0.0 - 0.4**: Low diversity (risky!)\n",
    "\n",
    "## How to Use This Program\n",
    "\n",
    "### Step 1: Gather ROA Data\n",
    "1. Choose 5-10 companies you want to analyze\n",
    "2. Find their ROA data for the past n years (use websites like Yahoo Finance, Google Finance)\n",
    "3. Replace the numbers in `roa_data` with your real data\n",
    "\n",
    "### Step 2: Run the Analysis\n",
    "The program will:\n",
    "1. Calculate average ROA for each stock\n",
    "2. Show you which stocks perform best on average\n",
    "3. Calculate how diverse your portfolio is\n",
    "4. Create visual charts\n",
    "\n",
    "### Step 3: Interpret Results\n",
    "\n",
    "**Example Output:**\n"
   ]
  },
  {
   "cell_type": "markdown",
   "id": "9da9854e",
   "metadata": {},
   "source": [
    "Average ROA for each stock:\n",
    "Stock 1: 0.3492  (NVDA - highest average ROA)\n",
    "Stock 2: 0.1200\n",
    "Stock 3: 0.2000\n",
    "...\n",
    "Portfolio Diversity: 0.7234  (Good diversity!)"
   ]
  },
  {
   "cell_type": "markdown",
   "id": "b70f0c59",
   "metadata": {},
   "source": [
    "\n",
    "\n",
    "**Charts you'll get:**\n",
    "1. **Bar Chart**: Shows average ROA for each stock\n",
    "2. **Correlation Heatmap**: Shows how similar each pair of stocks is\n",
    "\n",
    "## Reading the Correlation Heatmap\n",
    "\n",
    "The heatmap uses colors to show correlation:\n",
    "- **Red**: High positive correlation (stocks move together)\n",
    "- **Blue**: Low or negative correlation (stocks move independently)\n",
    "- **White**: Neutral\n",
    "\n",
    "**Goal:** You want to see more blue squares (low correlation) for better diversity.\n",
    "\n"
   ]
  },
  {
   "cell_type": "markdown",
   "id": "45af5bb6",
   "metadata": {},
   "source": [
    "# Python Libraries Installation Tutorial\n",
    "\n",
    "## What are these libraries used for?\n",
    "\n",
    "Before installing, let's understand what each library does:\n",
    "\n",
    "- **NumPy (`numpy`)**: Mathematical operations and array handling\n",
    "- **Pandas (`pandas`)**: Data analysis and manipulation (like Excel for Python)\n",
    "- **Seaborn (`seaborn`)**: Beautiful statistical visualizations\n",
    "- **Matplotlib (`matplotlib`)**: Basic plotting and charts\n",
    "\n",
    "## Prerequisites\n",
    "\n",
    "**Step 1: Install Python**\n",
    "1. Go to [python.org](https://python.org)\n",
    "2. Download Python 3.8 or newer\n",
    "3. During installation, **check \"Add Python to PATH\"** ✅\n",
    "4. Click \"Install Now\"\n",
    "\n",
    "**Step 2: Verify Python Installation**\n",
    "Open terminal (Mac) or command prompt (Windows) and type:\n"
   ]
  },
  {
   "cell_type": "code",
   "execution_count": null,
   "id": "6caa1328",
   "metadata": {
    "vscode": {
     "languageId": "bash"
    }
   },
   "outputs": [],
   "source": [
    "python --version"
   ]
  },
  {
   "cell_type": "markdown",
   "id": "63b6942e",
   "metadata": {},
   "source": [
    "You should see something like `Python 3.11.0`\n",
    "\n",
    "## Installation Methods\n",
    "\n",
    "### Method 1: Individual Installation \n",
    "\n",
    "Open your terminal/command prompt and run these commands **one by one**:\n",
    "\n"
   ]
  },
  {
   "cell_type": "code",
   "execution_count": null,
   "id": "a47ffd28",
   "metadata": {
    "vscode": {
     "languageId": "bash"
    }
   },
   "outputs": [],
   "source": [
    "pip install numpy"
   ]
  },
  {
   "cell_type": "code",
   "execution_count": null,
   "id": "583163a0",
   "metadata": {
    "vscode": {
     "languageId": "bash"
    }
   },
   "outputs": [],
   "source": [
    "pip install pandas"
   ]
  },
  {
   "cell_type": "code",
   "execution_count": null,
   "id": "30d619ec",
   "metadata": {
    "vscode": {
     "languageId": "bash"
    }
   },
   "outputs": [],
   "source": [
    "pip install seaborn"
   ]
  },
  {
   "cell_type": "code",
   "execution_count": null,
   "id": "a8ac651f",
   "metadata": {
    "vscode": {
     "languageId": "bash"
    }
   },
   "outputs": [],
   "source": [
    "pip install matplotlib"
   ]
  }
 ],
 "metadata": {
  "language_info": {
   "name": "python"
  }
 },
 "nbformat": 4,
 "nbformat_minor": 5
}
