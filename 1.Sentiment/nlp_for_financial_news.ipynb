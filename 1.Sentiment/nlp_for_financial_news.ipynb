{
 "cells": [
  {
   "cell_type": "markdown",
   "id": "a2fcf9f7",
   "metadata": {},
   "source": [
    "# Financial News Sentiment Analysis Tutorial"
   ]
  },
  {
   "cell_type": "markdown",
   "id": "c35bca65",
   "metadata": {},
   "source": [
    "## What is this program doing?\n",
    "This program uses artificial intelligence to read financial news and tell us if the news is positive, negative, or neutral. Think of it like having a smart assistant that can quickly analyze hundreds of news articles and tell you whether they're good or bad news for a company!"
   ]
  },
  {
   "cell_type": "markdown",
   "id": "270a7cec",
   "metadata": {},
   "source": [
    "## Prerequisites\n",
    "Before we start, you need to install Python and some special tools. Don't worry - it's easier than it sounds!\n",
    "\n",
    "**Step 1: Install Python**\n",
    "1. Go to python.org\n",
    "2. Download Python 3.11 or newer\n",
    "3. Install it (just click \"Next\" through the installer)\n",
    "\n",
    "**Step 2: Install Required Libraries**\n",
    "\n",
    "Open your terminal (on Mac) or command prompt (on Windows) and type these commands one by one:\n",
    "\n",
    "```shell\n",
    "pip install transformers\n",
    "pip install torch\n",
    "pip install pandas\n",
    "```"
   ]
  },
  {
   "cell_type": "markdown",
   "id": "8ce3b4e1",
   "metadata": {},
   "source": [
    "## Understanding the Code\n",
    "\n",
    "Let's break down the code step by step:"
   ]
  },
  {
   "cell_type": "markdown",
   "id": "6e74f283",
   "metadata": {},
   "source": [
    "**Part 1: Import the Tools**\n",
    "```python\n",
    "from transformers import AutoTokenizer, AutoModelForSequenceClassification, pipeline\n",
    "import pandas as pd\n",
    "```\n",
    "\n",
    "**What this does**: This is like opening your toolbox. We're telling Python to get ready to use:\n",
    "\n",
    "`transformers`: The AI brain that understands language  \n",
    "`pandas`: A tool to organize our results in a nice table"
   ]
  },
  {
   "cell_type": "markdown",
   "id": "bb499879",
   "metadata": {},
   "source": [
    "**Part 2: Load the AI Model**\n",
    "```python\n",
    "model_name = \"ProsusAI/finbert\"\n",
    "tokenizer = AutoTokenizer.from_pretrained(model_name)\n",
    "model = AutoModelForSequenceClassification.from_pretrained(model_name)\n",
    "```\n",
    "**What this does**: We're downloading a pre-trained AI model called \"FinBERT\" that has already learned how to understand financial language. Think of it like downloading a translator app that specializes in business news.\n",
    "\n"
   ]
  },
  {
   "cell_type": "markdown",
   "id": "8fc9475c",
   "metadata": {},
   "source": [
    "**Part 3: Create the Analysis Tool**\n",
    "```python\n",
    "nlp = pipeline(\"sentiment-analysis\", model=model, tokenizer=tokenizer, top_k=None)\n",
    "```\n",
    "**What this does**: We're creating our sentiment analyzer - this is the tool that will actually read the news and give us the positive/negative/neutral scores."
   ]
  },
  {
   "cell_type": "markdown",
   "id": "a8cf8fb4",
   "metadata": {},
   "source": [
    "**Part 4: Add Your News Sentences**\n",
    "```python\n",
    "sentences = [\n",
    "    \"there is a shortage of capital, and we need extra financing\",\n",
    "    \"growth is strong and we have plenty of liquidity\",\n",
    "    \"there are doubts about our finances\",\n",
    "    \"Our company is broke, and we need to raise funds\",\n",
    "]\n",
    "```\n",
    "**What this does**: This is where YOU put the financial news you want to analyze.\n",
    "\n",
    "⚠️ **IMPORTANT RULES**:\n",
    "\n",
    "- Each sentence must be inside quotation marks \"like this\"\n",
    "- Put a comma , after each sentence (except the last one)\n",
    "- You can add as many sentences as you want!"
   ]
  },
  {
   "cell_type": "markdown",
   "id": "857315c8",
   "metadata": {},
   "source": [
    "**Part 5: Analyze the News**\n",
    "```python\n",
    "results = nlp(sentences)\n",
    "```\n",
    "**What this does**: The AI reads all your sentences and gives each one a score for positive, negative, and neutral.\n",
    "\n"
   ]
  },
  {
   "cell_type": "markdown",
   "id": "8e3942e0",
   "metadata": {},
   "source": [
    "**Part 6: Create a Nice Table**\n",
    "```python\n",
    "data = []\n",
    "for sentence, res in zip(sentences, results):\n",
    "    row = {\"Sentence\": sentence}\n",
    "    for item in res:\n",
    "        row[item['label'].capitalize()] = item['score']\n",
    "    data.append(row)\n",
    "\n",
    "df = pd.DataFrame(data)\n",
    "print(df)\n",
    "```\n",
    "**What this does**: This organizes all the results into a neat table that shows:\n",
    "**What this does**: This organizes all the results into a neat table that shows:\n",
    "\n",
    "**Example Output:**\n",
    "| Sentence | Negative | Neutral | Positive |\n",
    "|----------|----------|---------|----------|\n",
    "| there is a shortage of capital, and we need ex... | 0.865358 | 0.105948 | 0.028694 |\n",
    "| growth is strong and we have plenty of liquidity | 0.010695 | 0.086726 | 0.902579 |\n",
    "| there are doubts about our finances | 0.426424 | 0.456974 | 0.116602 |\n",
    "| Our company is broke, and we need to raise funds | 0.915018 | 0.063115 | 0.021867 |\n",
    "\n",
    "**How to Read the Results:**\n",
    "- **Negative (0.0 to 1.0)**: Higher numbers (closer to 1.0) mean more negative sentiment\n",
    "- **Neutral (0.0 to 1.0)**: Higher numbers mean the news is neither good nor bad\n",
    "- **Positive (0.0 to 1.0)**: Higher numbers mean more positive sentiment\n",
    "- The three scores for each sentence always add up to 1.0\n",
    "\n",
    "**If you want -10 to 10 scales, just calculate by using the following formula**\n",
    "$$\\text{score}=(−10)⋅P_{negative}+0⋅P_{neutral}+10⋅P_{positive}​$$\n"
   ]
  },
  {
   "cell_type": "markdown",
   "id": "40732a86",
   "metadata": {},
   "source": [
    "## Common Mistakes to Avoid\n",
    "Forgetting quotation marks: Apple profits up ❌  \"Apple profits up\" ✅\n",
    "\n",
    "Missing commas: \n",
    "```text\n",
    "\"Good news\"   ❌\n",
    "\"Bad news\" \n",
    "```\n",
    "\n",
    "```text\n",
    "\"Good news\",  ✅\n",
    "\"Bad news\"\n",
    "```"
   ]
  },
  {
   "cell_type": "markdown",
   "id": "a14a573a",
   "metadata": {},
   "source": []
  }
 ],
 "metadata": {
  "kernelspec": {
   "display_name": "base",
   "language": "python",
   "name": "python3"
  },
  "language_info": {
   "codemirror_mode": {
    "name": "ipython",
    "version": 3
   },
   "file_extension": ".py",
   "mimetype": "text/x-python",
   "name": "python",
   "nbconvert_exporter": "python",
   "pygments_lexer": "ipython3",
   "version": "3.10.12"
  }
 },
 "nbformat": 4,
 "nbformat_minor": 5
}
